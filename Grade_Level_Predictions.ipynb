{
  "nbformat": 4,
  "nbformat_minor": 0,
  "metadata": {
    "colab": {
      "provenance": [],
      "authorship_tag": "ABX9TyNkY2hxK/IxaGzKs495ea0P",
      "include_colab_link": true
    },
    "kernelspec": {
      "name": "python3",
      "display_name": "Python 3"
    },
    "language_info": {
      "name": "python"
    }
  },
  "cells": [
    {
      "cell_type": "markdown",
      "metadata": {
        "id": "view-in-github",
        "colab_type": "text"
      },
      "source": [
        "<a href=\"https://colab.research.google.com/github/KellyPared/analyzing_hscourse_data/blob/main/Grade_Level_Predictions.ipynb\" target=\"_parent\"><img src=\"https://colab.research.google.com/assets/colab-badge.svg\" alt=\"Open In Colab\"/></a>"
      ]
    },
    {
      "cell_type": "code",
      "execution_count": 44,
      "metadata": {
        "id": "7e9tgr_9dt7n"
      },
      "outputs": [],
      "source": [
        "import pandas as pd\n"
      ]
    },
    {
      "cell_type": "markdown",
      "source": [
        "which students are capable/ with predictions--passsing.\n",
        "\n",
        "predicting grade/ability\n",
        "\n",
        "turn grade levels into\n",
        "\n",
        "look what has the greates amount of points."
      ],
      "metadata": {
        "id": "Cvu9k0LQYh4E"
      }
    },
    {
      "cell_type": "code",
      "source": [
        "\n",
        "# Load the data\n",
        "df = pd.read_csv('Data_Set_9-12.csv')\n",
        "\n",
        "# Check the shape of the DataFrame\n",
        "print(df.shape)\n",
        "\n",
        "# Check the first few rows of the DataFrame\n",
        "print(df.head())\n"
      ],
      "metadata": {
        "colab": {
          "base_uri": "https://localhost:8080/"
        },
        "id": "C736F297d0qK",
        "outputId": "51fcac19-6218-4ef6-a1d6-861dcbcab344"
      },
      "execution_count": 45,
      "outputs": [
        {
          "output_type": "stream",
          "name": "stdout",
          "text": [
            "(5131, 4)\n",
            "  StudentID                          Course  Grade  Section_Grade\n",
            "0    STU711                English I Honors      9          96.67\n",
            "1    STU711                French II Honors      9          87.92\n",
            "2    STU711  Computer Science Principles AP      9          86.02\n",
            "3    STU711                       Chemistry      9          88.89\n",
            "4    STU711              Human Geography AP      9          88.49\n"
          ]
        }
      ]
    },
    {
      "cell_type": "code",
      "source": [
        "\n",
        "new_df = pd.read_csv('Data_Set_9-12.csv')\n",
        "\n",
        "keywords_to_course_type = {\n",
        "    'french spanish german latin chinese': 'Foreign Language',\n",
        "    'math algebra statistics geometry calculus': 'Math',\n",
        "    'english writers literature shakespeare': 'English',\n",
        "    'human government world history microeconomics': 'Humanities',\n",
        "    'science astronomy biology physics anatomy chemistry': 'Science',\n",
        "    'data computer artificial': \"Computer Science\",\n",
        "    'capstone': \"Research\",\n",
        "    'visual arts art music': 'Arts',\n",
        "    'psychology great decisions': 'Psychology',\n",
        "    'entrepreneurship': 'Entrepreneurship',\n",
        "    'constitutional international politics':'Law and Politics'\n",
        "}\n",
        "\n",
        "def get_course_type(course):\n",
        "    '''find words in keywords and assign'''\n",
        "    for keyword, course_type in keywords_to_course_type.items():\n",
        "        if any(word in course.lower() for word in keyword.split()):\n",
        "            return course_type\n",
        "    return 'unknown'\n",
        "\n",
        "# apply the function to the 'Course' column to create a new 'Course_Type' column\n",
        "new_df['Course_Type'] = new_df['Course'].apply(get_course_type)\n",
        "\n",
        "# display the updated dataframe\n",
        "new_df.head(100)\n"
      ],
      "metadata": {
        "colab": {
          "base_uri": "https://localhost:8080/",
          "height": 424
        },
        "id": "3_BxSn7HNllW",
        "outputId": "1b727066-32cc-484a-d9fd-f027de56bc5b"
      },
      "execution_count": 46,
      "outputs": [
        {
          "output_type": "execute_result",
          "data": {
            "text/plain": [
              "   StudentID                          Course  Grade  Section_Grade  \\\n",
              "0     STU711                English I Honors      9          96.67   \n",
              "1     STU711                French II Honors      9          87.92   \n",
              "2     STU711  Computer Science Principles AP      9          86.02   \n",
              "3     STU711                       Chemistry      9          88.89   \n",
              "4     STU711              Human Geography AP      9          88.49   \n",
              "..       ...                             ...    ...            ...   \n",
              "95    STU348  Computer Science Principles AP      9          98.83   \n",
              "96    STU348                Chemistry Honors      9          93.57   \n",
              "97    STU348                World History AP      9          98.98   \n",
              "98    STU735                English I Honors      9          94.60   \n",
              "99    STU735               Chinese II Honors      9          97.60   \n",
              "\n",
              "         Course_Type  \n",
              "0            English  \n",
              "1   Foreign Language  \n",
              "2            Science  \n",
              "3            Science  \n",
              "4         Humanities  \n",
              "..               ...  \n",
              "95           Science  \n",
              "96           Science  \n",
              "97        Humanities  \n",
              "98           English  \n",
              "99  Foreign Language  \n",
              "\n",
              "[100 rows x 5 columns]"
            ],
            "text/html": [
              "\n",
              "  <div id=\"df-b16026a3-bfe7-4ff6-9d22-70ec671d49e0\">\n",
              "    <div class=\"colab-df-container\">\n",
              "      <div>\n",
              "<style scoped>\n",
              "    .dataframe tbody tr th:only-of-type {\n",
              "        vertical-align: middle;\n",
              "    }\n",
              "\n",
              "    .dataframe tbody tr th {\n",
              "        vertical-align: top;\n",
              "    }\n",
              "\n",
              "    .dataframe thead th {\n",
              "        text-align: right;\n",
              "    }\n",
              "</style>\n",
              "<table border=\"1\" class=\"dataframe\">\n",
              "  <thead>\n",
              "    <tr style=\"text-align: right;\">\n",
              "      <th></th>\n",
              "      <th>StudentID</th>\n",
              "      <th>Course</th>\n",
              "      <th>Grade</th>\n",
              "      <th>Section_Grade</th>\n",
              "      <th>Course_Type</th>\n",
              "    </tr>\n",
              "  </thead>\n",
              "  <tbody>\n",
              "    <tr>\n",
              "      <th>0</th>\n",
              "      <td>STU711</td>\n",
              "      <td>English I Honors</td>\n",
              "      <td>9</td>\n",
              "      <td>96.67</td>\n",
              "      <td>English</td>\n",
              "    </tr>\n",
              "    <tr>\n",
              "      <th>1</th>\n",
              "      <td>STU711</td>\n",
              "      <td>French II Honors</td>\n",
              "      <td>9</td>\n",
              "      <td>87.92</td>\n",
              "      <td>Foreign Language</td>\n",
              "    </tr>\n",
              "    <tr>\n",
              "      <th>2</th>\n",
              "      <td>STU711</td>\n",
              "      <td>Computer Science Principles AP</td>\n",
              "      <td>9</td>\n",
              "      <td>86.02</td>\n",
              "      <td>Science</td>\n",
              "    </tr>\n",
              "    <tr>\n",
              "      <th>3</th>\n",
              "      <td>STU711</td>\n",
              "      <td>Chemistry</td>\n",
              "      <td>9</td>\n",
              "      <td>88.89</td>\n",
              "      <td>Science</td>\n",
              "    </tr>\n",
              "    <tr>\n",
              "      <th>4</th>\n",
              "      <td>STU711</td>\n",
              "      <td>Human Geography AP</td>\n",
              "      <td>9</td>\n",
              "      <td>88.49</td>\n",
              "      <td>Humanities</td>\n",
              "    </tr>\n",
              "    <tr>\n",
              "      <th>...</th>\n",
              "      <td>...</td>\n",
              "      <td>...</td>\n",
              "      <td>...</td>\n",
              "      <td>...</td>\n",
              "      <td>...</td>\n",
              "    </tr>\n",
              "    <tr>\n",
              "      <th>95</th>\n",
              "      <td>STU348</td>\n",
              "      <td>Computer Science Principles AP</td>\n",
              "      <td>9</td>\n",
              "      <td>98.83</td>\n",
              "      <td>Science</td>\n",
              "    </tr>\n",
              "    <tr>\n",
              "      <th>96</th>\n",
              "      <td>STU348</td>\n",
              "      <td>Chemistry Honors</td>\n",
              "      <td>9</td>\n",
              "      <td>93.57</td>\n",
              "      <td>Science</td>\n",
              "    </tr>\n",
              "    <tr>\n",
              "      <th>97</th>\n",
              "      <td>STU348</td>\n",
              "      <td>World History AP</td>\n",
              "      <td>9</td>\n",
              "      <td>98.98</td>\n",
              "      <td>Humanities</td>\n",
              "    </tr>\n",
              "    <tr>\n",
              "      <th>98</th>\n",
              "      <td>STU735</td>\n",
              "      <td>English I Honors</td>\n",
              "      <td>9</td>\n",
              "      <td>94.60</td>\n",
              "      <td>English</td>\n",
              "    </tr>\n",
              "    <tr>\n",
              "      <th>99</th>\n",
              "      <td>STU735</td>\n",
              "      <td>Chinese II Honors</td>\n",
              "      <td>9</td>\n",
              "      <td>97.60</td>\n",
              "      <td>Foreign Language</td>\n",
              "    </tr>\n",
              "  </tbody>\n",
              "</table>\n",
              "<p>100 rows × 5 columns</p>\n",
              "</div>\n",
              "      <button class=\"colab-df-convert\" onclick=\"convertToInteractive('df-b16026a3-bfe7-4ff6-9d22-70ec671d49e0')\"\n",
              "              title=\"Convert this dataframe to an interactive table.\"\n",
              "              style=\"display:none;\">\n",
              "        \n",
              "  <svg xmlns=\"http://www.w3.org/2000/svg\" height=\"24px\"viewBox=\"0 0 24 24\"\n",
              "       width=\"24px\">\n",
              "    <path d=\"M0 0h24v24H0V0z\" fill=\"none\"/>\n",
              "    <path d=\"M18.56 5.44l.94 2.06.94-2.06 2.06-.94-2.06-.94-.94-2.06-.94 2.06-2.06.94zm-11 1L8.5 8.5l.94-2.06 2.06-.94-2.06-.94L8.5 2.5l-.94 2.06-2.06.94zm10 10l.94 2.06.94-2.06 2.06-.94-2.06-.94-.94-2.06-.94 2.06-2.06.94z\"/><path d=\"M17.41 7.96l-1.37-1.37c-.4-.4-.92-.59-1.43-.59-.52 0-1.04.2-1.43.59L10.3 9.45l-7.72 7.72c-.78.78-.78 2.05 0 2.83L4 21.41c.39.39.9.59 1.41.59.51 0 1.02-.2 1.41-.59l7.78-7.78 2.81-2.81c.8-.78.8-2.07 0-2.86zM5.41 20L4 18.59l7.72-7.72 1.47 1.35L5.41 20z\"/>\n",
              "  </svg>\n",
              "      </button>\n",
              "      \n",
              "  <style>\n",
              "    .colab-df-container {\n",
              "      display:flex;\n",
              "      flex-wrap:wrap;\n",
              "      gap: 12px;\n",
              "    }\n",
              "\n",
              "    .colab-df-convert {\n",
              "      background-color: #E8F0FE;\n",
              "      border: none;\n",
              "      border-radius: 50%;\n",
              "      cursor: pointer;\n",
              "      display: none;\n",
              "      fill: #1967D2;\n",
              "      height: 32px;\n",
              "      padding: 0 0 0 0;\n",
              "      width: 32px;\n",
              "    }\n",
              "\n",
              "    .colab-df-convert:hover {\n",
              "      background-color: #E2EBFA;\n",
              "      box-shadow: 0px 1px 2px rgba(60, 64, 67, 0.3), 0px 1px 3px 1px rgba(60, 64, 67, 0.15);\n",
              "      fill: #174EA6;\n",
              "    }\n",
              "\n",
              "    [theme=dark] .colab-df-convert {\n",
              "      background-color: #3B4455;\n",
              "      fill: #D2E3FC;\n",
              "    }\n",
              "\n",
              "    [theme=dark] .colab-df-convert:hover {\n",
              "      background-color: #434B5C;\n",
              "      box-shadow: 0px 1px 3px 1px rgba(0, 0, 0, 0.15);\n",
              "      filter: drop-shadow(0px 1px 2px rgba(0, 0, 0, 0.3));\n",
              "      fill: #FFFFFF;\n",
              "    }\n",
              "  </style>\n",
              "\n",
              "      <script>\n",
              "        const buttonEl =\n",
              "          document.querySelector('#df-b16026a3-bfe7-4ff6-9d22-70ec671d49e0 button.colab-df-convert');\n",
              "        buttonEl.style.display =\n",
              "          google.colab.kernel.accessAllowed ? 'block' : 'none';\n",
              "\n",
              "        async function convertToInteractive(key) {\n",
              "          const element = document.querySelector('#df-b16026a3-bfe7-4ff6-9d22-70ec671d49e0');\n",
              "          const dataTable =\n",
              "            await google.colab.kernel.invokeFunction('convertToInteractive',\n",
              "                                                     [key], {});\n",
              "          if (!dataTable) return;\n",
              "\n",
              "          const docLinkHtml = 'Like what you see? Visit the ' +\n",
              "            '<a target=\"_blank\" href=https://colab.research.google.com/notebooks/data_table.ipynb>data table notebook</a>'\n",
              "            + ' to learn more about interactive tables.';\n",
              "          element.innerHTML = '';\n",
              "          dataTable['output_type'] = 'display_data';\n",
              "          await google.colab.output.renderOutput(dataTable, element);\n",
              "          const docLink = document.createElement('div');\n",
              "          docLink.innerHTML = docLinkHtml;\n",
              "          element.appendChild(docLink);\n",
              "        }\n",
              "      </script>\n",
              "    </div>\n",
              "  </div>\n",
              "  "
            ]
          },
          "metadata": {},
          "execution_count": 46
        }
      ]
    },
    {
      "cell_type": "code",
      "source": [
        "# find unknown data strings in the 'col1' column\n",
        "unknowns = new_df[new_df['Course_Type'] == 'unknown']\n",
        "print(unknowns)"
      ],
      "metadata": {
        "colab": {
          "base_uri": "https://localhost:8080/"
        },
        "id": "fnHLPCUMZPDD",
        "outputId": "74558370-a1d9-4f2f-ecee-7f6eb5cb414b"
      },
      "execution_count": 47,
      "outputs": [
        {
          "output_type": "stream",
          "name": "stdout",
          "text": [
            "Empty DataFrame\n",
            "Columns: [StudentID, Course, Grade, Section_Grade, Course_Type]\n",
            "Index: []\n"
          ]
        }
      ]
    },
    {
      "cell_type": "code",
      "source": [
        "new_df[\"Course_Type\"].unique()"
      ],
      "metadata": {
        "colab": {
          "base_uri": "https://localhost:8080/"
        },
        "id": "o77kLyDVVloy",
        "outputId": "ee5225a0-9956-4f61-f31d-0545d5f8c4d2"
      },
      "execution_count": 48,
      "outputs": [
        {
          "output_type": "execute_result",
          "data": {
            "text/plain": [
              "array(['English', 'Foreign Language', 'Science', 'Humanities', 'Math',\n",
              "       'Psychology', 'Arts', 'Law and Politics', 'Entrepreneurship',\n",
              "       'Computer Science', 'Research'], dtype=object)"
            ]
          },
          "metadata": {},
          "execution_count": 48
        }
      ]
    },
    {
      "cell_type": "code",
      "source": [
        "# calculate the average grade per course\n",
        "avg_grades = new_df.groupby('Course')['Section_Grade'].mean()\n",
        "\n",
        "# print the result\n",
        "print(avg_grades)"
      ],
      "metadata": {
        "colab": {
          "base_uri": "https://localhost:8080/"
        },
        "id": "Q9Tl0_pcfKXO",
        "outputId": "7ee57e9d-a22c-4465-ac7b-d4d6823c167a"
      },
      "execution_count": 49,
      "outputs": [
        {
          "output_type": "stream",
          "name": "stdout",
          "text": [
            "Course\n",
            "AP Research (Capstone Year 2)          97.055000\n",
            "AP Seminar (Capstone Year 1)           90.933333\n",
            "Algebra II                             86.140000\n",
            "Algebra II Honors                      90.570000\n",
            "Anatomy and Physiology Honors          91.059403\n",
            "                                         ...    \n",
            "Talented Writers Program III Honors    90.171429\n",
            "United States History AP               90.253567\n",
            "United States History Honors           89.568125\n",
            "Women Writers Post-AP                  95.564667\n",
            "World History AP                       95.681765\n",
            "Name: Section_Grade, Length: 105, dtype: float64\n"
          ]
        }
      ]
    },
    {
      "cell_type": "code",
      "source": [
        "#dont use id"
      ],
      "metadata": {
        "id": "boy_EA9NVYIE"
      },
      "execution_count": null,
      "outputs": []
    },
    {
      "cell_type": "code",
      "source": [
        "from sklearn.model_selection import train_test_split\n",
        "from sklearn.preprocessing import OneHotEncoder\n",
        "\n",
        "# One-hot encode the categorical variables\n",
        "encoder = OneHotEncoder()\n",
        "X = encoder.fit_transform(new_df[['Grade', 'Course_Type']])\n",
        "\n",
        "# Extract the target variable\n",
        "y = new_df['Section_Grade']\n",
        "\n",
        "# Split the data into training and testing sets\n",
        "X_train, X_test, y_train, y_test = train_test_split(X, y, test_size=0.2, random_state=42)\n"
      ],
      "metadata": {
        "id": "mxX4_Kr-dubx"
      },
      "execution_count": 50,
      "outputs": []
    },
    {
      "cell_type": "code",
      "source": [
        "from sklearn.linear_model import LinearRegression\n",
        "\n",
        "# Train the model\n",
        "model = LinearRegression()\n",
        "model.fit(X_train, y_train)\n"
      ],
      "metadata": {
        "colab": {
          "base_uri": "https://localhost:8080/",
          "height": 75
        },
        "id": "duZDrAZmdxp6",
        "outputId": "b1f1f6c3-4646-4d05-dabd-858ea1f09852"
      },
      "execution_count": 54,
      "outputs": [
        {
          "output_type": "execute_result",
          "data": {
            "text/plain": [
              "LinearRegression()"
            ],
            "text/html": [
              "<style>#sk-container-id-3 {color: black;background-color: white;}#sk-container-id-3 pre{padding: 0;}#sk-container-id-3 div.sk-toggleable {background-color: white;}#sk-container-id-3 label.sk-toggleable__label {cursor: pointer;display: block;width: 100%;margin-bottom: 0;padding: 0.3em;box-sizing: border-box;text-align: center;}#sk-container-id-3 label.sk-toggleable__label-arrow:before {content: \"▸\";float: left;margin-right: 0.25em;color: #696969;}#sk-container-id-3 label.sk-toggleable__label-arrow:hover:before {color: black;}#sk-container-id-3 div.sk-estimator:hover label.sk-toggleable__label-arrow:before {color: black;}#sk-container-id-3 div.sk-toggleable__content {max-height: 0;max-width: 0;overflow: hidden;text-align: left;background-color: #f0f8ff;}#sk-container-id-3 div.sk-toggleable__content pre {margin: 0.2em;color: black;border-radius: 0.25em;background-color: #f0f8ff;}#sk-container-id-3 input.sk-toggleable__control:checked~div.sk-toggleable__content {max-height: 200px;max-width: 100%;overflow: auto;}#sk-container-id-3 input.sk-toggleable__control:checked~label.sk-toggleable__label-arrow:before {content: \"▾\";}#sk-container-id-3 div.sk-estimator input.sk-toggleable__control:checked~label.sk-toggleable__label {background-color: #d4ebff;}#sk-container-id-3 div.sk-label input.sk-toggleable__control:checked~label.sk-toggleable__label {background-color: #d4ebff;}#sk-container-id-3 input.sk-hidden--visually {border: 0;clip: rect(1px 1px 1px 1px);clip: rect(1px, 1px, 1px, 1px);height: 1px;margin: -1px;overflow: hidden;padding: 0;position: absolute;width: 1px;}#sk-container-id-3 div.sk-estimator {font-family: monospace;background-color: #f0f8ff;border: 1px dotted black;border-radius: 0.25em;box-sizing: border-box;margin-bottom: 0.5em;}#sk-container-id-3 div.sk-estimator:hover {background-color: #d4ebff;}#sk-container-id-3 div.sk-parallel-item::after {content: \"\";width: 100%;border-bottom: 1px solid gray;flex-grow: 1;}#sk-container-id-3 div.sk-label:hover label.sk-toggleable__label {background-color: #d4ebff;}#sk-container-id-3 div.sk-serial::before {content: \"\";position: absolute;border-left: 1px solid gray;box-sizing: border-box;top: 0;bottom: 0;left: 50%;z-index: 0;}#sk-container-id-3 div.sk-serial {display: flex;flex-direction: column;align-items: center;background-color: white;padding-right: 0.2em;padding-left: 0.2em;position: relative;}#sk-container-id-3 div.sk-item {position: relative;z-index: 1;}#sk-container-id-3 div.sk-parallel {display: flex;align-items: stretch;justify-content: center;background-color: white;position: relative;}#sk-container-id-3 div.sk-item::before, #sk-container-id-3 div.sk-parallel-item::before {content: \"\";position: absolute;border-left: 1px solid gray;box-sizing: border-box;top: 0;bottom: 0;left: 50%;z-index: -1;}#sk-container-id-3 div.sk-parallel-item {display: flex;flex-direction: column;z-index: 1;position: relative;background-color: white;}#sk-container-id-3 div.sk-parallel-item:first-child::after {align-self: flex-end;width: 50%;}#sk-container-id-3 div.sk-parallel-item:last-child::after {align-self: flex-start;width: 50%;}#sk-container-id-3 div.sk-parallel-item:only-child::after {width: 0;}#sk-container-id-3 div.sk-dashed-wrapped {border: 1px dashed gray;margin: 0 0.4em 0.5em 0.4em;box-sizing: border-box;padding-bottom: 0.4em;background-color: white;}#sk-container-id-3 div.sk-label label {font-family: monospace;font-weight: bold;display: inline-block;line-height: 1.2em;}#sk-container-id-3 div.sk-label-container {text-align: center;}#sk-container-id-3 div.sk-container {/* jupyter's `normalize.less` sets `[hidden] { display: none; }` but bootstrap.min.css set `[hidden] { display: none !important; }` so we also need the `!important` here to be able to override the default hidden behavior on the sphinx rendered scikit-learn.org. See: https://github.com/scikit-learn/scikit-learn/issues/21755 */display: inline-block !important;position: relative;}#sk-container-id-3 div.sk-text-repr-fallback {display: none;}</style><div id=\"sk-container-id-3\" class=\"sk-top-container\"><div class=\"sk-text-repr-fallback\"><pre>LinearRegression()</pre><b>In a Jupyter environment, please rerun this cell to show the HTML representation or trust the notebook. <br />On GitHub, the HTML representation is unable to render, please try loading this page with nbviewer.org.</b></div><div class=\"sk-container\" hidden><div class=\"sk-item\"><div class=\"sk-estimator sk-toggleable\"><input class=\"sk-toggleable__control sk-hidden--visually\" id=\"sk-estimator-id-3\" type=\"checkbox\" checked><label for=\"sk-estimator-id-3\" class=\"sk-toggleable__label sk-toggleable__label-arrow\">LinearRegression</label><div class=\"sk-toggleable__content\"><pre>LinearRegression()</pre></div></div></div></div></div>"
            ]
          },
          "metadata": {},
          "execution_count": 54
        }
      ]
    },
    {
      "cell_type": "code",
      "source": [
        "# Make predictions on the test set\n",
        "y_pred = model.predict(X_test)\n",
        "\n",
        "# Calculate the mean absolute error\n",
        "from sklearn.metrics import mean_absolute_error\n",
        "mae = mean_absolute_error(y_test, y_pred)\n",
        "print('Mean Absolute Error:', mae)\n"
      ],
      "metadata": {
        "colab": {
          "base_uri": "https://localhost:8080/"
        },
        "id": "0BG4aySveH4o",
        "outputId": "13b6f259-2f0f-4ed4-90c5-31d24b9e6d6e"
      },
      "execution_count": 55,
      "outputs": [
        {
          "output_type": "stream",
          "name": "stdout",
          "text": [
            "Mean Absolute Error: 3.96020623868929\n"
          ]
        }
      ]
    },
    {
      "cell_type": "markdown",
      "source": [
        " a MAE of 3.96020623868929 means that, on average, the model's predictions are off by approximately 3.96 units (in the same units as the target variable). This indicates that the model's performance may not be very accurate, and there may be room for improvement. However, the interpretation of the MAE also depends on the scale of the target variable and the context of the problem."
      ],
      "metadata": {
        "id": "YxEoUDfRUscX"
      }
    },
    {
      "cell_type": "code",
      "source": [
        "import matplotlib.pyplot as plt\n",
        "\n",
        "# Create a scatter plot of the actual vs predicted grades\n",
        "plt.scatter(y_test, y_pred)\n",
        "plt.xlabel('Actual Grade')\n",
        "plt.ylabel('Predicted Grade')\n",
        "plt.show()\n"
      ],
      "metadata": {
        "colab": {
          "base_uri": "https://localhost:8080/",
          "height": 449
        },
        "id": "EObfSXjqePoJ",
        "outputId": "236c5cbe-d8a0-493b-a9d1-5deec3df3440"
      },
      "execution_count": 56,
      "outputs": [
        {
          "output_type": "display_data",
          "data": {
            "text/plain": [
              "<Figure size 640x480 with 1 Axes>"
            ],
            "image/png": "[encoded data removed]"
          },
          "metadata": {}
        }
      ]
    },
    {
      "cell_type": "markdown",
      "source": [],
      "metadata": {
        "id": "tXbTw0PCezUz"
      }
    },
    {
      "cell_type": "code",
      "source": [
        "import pandas as pd\n",
        "from sklearn.cluster import KMeans\n",
        "\n",
        "\n",
        "\n",
        "# Select the features that you want to use for clustering\n",
        "X = new_df[['Grade', 'Section_Grade']]\n",
        "\n",
        "# Define the number of clusters you want to create\n",
        "num_clusters = 3\n",
        "\n",
        "# Create a k-means clustering model with the specified number of clusters\n",
        "kmeans = KMeans(n_clusters=3, n_init=10)\n",
        "\n",
        "# Fit the model to the data\n",
        "kmeans.fit(X)\n",
        "\n",
        "# Add a new column to the original DataFrame with the cluster labels for each data point\n",
        "new_df['Cluster'] = kmeans.labels_\n",
        "\n",
        "# Print the cluster centers\n",
        "print(kmeans.cluster_centers_)\n"
      ],
      "metadata": {
        "colab": {
          "base_uri": "https://localhost:8080/"
        },
        "id": "2V0qDdgQezdP",
        "outputId": "84b96d01-c64d-4597-fb26-dd94530cd622"
      },
      "execution_count": 25,
      "outputs": [
        {
          "output_type": "stream",
          "name": "stdout",
          "text": [
            "[[10.4789916  90.53703548]\n",
            " [10.65844636 82.80541307]\n",
            " [10.55280073 96.16747934]]\n"
          ]
        }
      ]
    },
    {
      "cell_type": "code",
      "source": [
        "new_df.head()"
      ],
      "metadata": {
        "colab": {
          "base_uri": "https://localhost:8080/",
          "height": 206
        },
        "id": "lVZWQ2cyQNFD",
        "outputId": "8ffae573-c6a3-4eb6-c227-9639fdf7a05a"
      },
      "execution_count": 59,
      "outputs": [
        {
          "output_type": "execute_result",
          "data": {
            "text/plain": [
              "  StudentID                          Course  Grade  Section_Grade  \\\n",
              "0    STU711                English I Honors      9          96.67   \n",
              "1    STU711                French II Honors      9          87.92   \n",
              "2    STU711  Computer Science Principles AP      9          86.02   \n",
              "3    STU711                       Chemistry      9          88.89   \n",
              "4    STU711              Human Geography AP      9          88.49   \n",
              "\n",
              "        Course_Type  Cluster  \n",
              "0           English        1  \n",
              "1  Foreign Language        2  \n",
              "2           Science        0  \n",
              "3           Science        2  \n",
              "4        Humanities        2  "
            ],
            "text/html": [
              "\n",
              "  <div id=\"df-2cfb3f6d-a735-4f42-a946-73b4749637d4\">\n",
              "    <div class=\"colab-df-container\">\n",
              "      <div>\n",
              "<style scoped>\n",
              "    .dataframe tbody tr th:only-of-type {\n",
              "        vertical-align: middle;\n",
              "    }\n",
              "\n",
              "    .dataframe tbody tr th {\n",
              "        vertical-align: top;\n",
              "    }\n",
              "\n",
              "    .dataframe thead th {\n",
              "        text-align: right;\n",
              "    }\n",
              "</style>\n",
              "<table border=\"1\" class=\"dataframe\">\n",
              "  <thead>\n",
              "    <tr style=\"text-align: right;\">\n",
              "      <th></th>\n",
              "      <th>StudentID</th>\n",
              "      <th>Course</th>\n",
              "      <th>Grade</th>\n",
              "      <th>Section_Grade</th>\n",
              "      <th>Course_Type</th>\n",
              "      <th>Cluster</th>\n",
              "    </tr>\n",
              "  </thead>\n",
              "  <tbody>\n",
              "    <tr>\n",
              "      <th>0</th>\n",
              "      <td>STU711</td>\n",
              "      <td>English I Honors</td>\n",
              "      <td>9</td>\n",
              "      <td>96.67</td>\n",
              "      <td>English</td>\n",
              "      <td>1</td>\n",
              "    </tr>\n",
              "    <tr>\n",
              "      <th>1</th>\n",
              "      <td>STU711</td>\n",
              "      <td>French II Honors</td>\n",
              "      <td>9</td>\n",
              "      <td>87.92</td>\n",
              "      <td>Foreign Language</td>\n",
              "      <td>2</td>\n",
              "    </tr>\n",
              "    <tr>\n",
              "      <th>2</th>\n",
              "      <td>STU711</td>\n",
              "      <td>Computer Science Principles AP</td>\n",
              "      <td>9</td>\n",
              "      <td>86.02</td>\n",
              "      <td>Science</td>\n",
              "      <td>0</td>\n",
              "    </tr>\n",
              "    <tr>\n",
              "      <th>3</th>\n",
              "      <td>STU711</td>\n",
              "      <td>Chemistry</td>\n",
              "      <td>9</td>\n",
              "      <td>88.89</td>\n",
              "      <td>Science</td>\n",
              "      <td>2</td>\n",
              "    </tr>\n",
              "    <tr>\n",
              "      <th>4</th>\n",
              "      <td>STU711</td>\n",
              "      <td>Human Geography AP</td>\n",
              "      <td>9</td>\n",
              "      <td>88.49</td>\n",
              "      <td>Humanities</td>\n",
              "      <td>2</td>\n",
              "    </tr>\n",
              "  </tbody>\n",
              "</table>\n",
              "</div>\n",
              "      <button class=\"colab-df-convert\" onclick=\"convertToInteractive('df-2cfb3f6d-a735-4f42-a946-73b4749637d4')\"\n",
              "              title=\"Convert this dataframe to an interactive table.\"\n",
              "              style=\"display:none;\">\n",
              "        \n",
              "  <svg xmlns=\"http://www.w3.org/2000/svg\" height=\"24px\"viewBox=\"0 0 24 24\"\n",
              "       width=\"24px\">\n",
              "    <path d=\"M0 0h24v24H0V0z\" fill=\"none\"/>\n",
              "    <path d=\"M18.56 5.44l.94 2.06.94-2.06 2.06-.94-2.06-.94-.94-2.06-.94 2.06-2.06.94zm-11 1L8.5 8.5l.94-2.06 2.06-.94-2.06-.94L8.5 2.5l-.94 2.06-2.06.94zm10 10l.94 2.06.94-2.06 2.06-.94-2.06-.94-.94-2.06-.94 2.06-2.06.94z\"/><path d=\"M17.41 7.96l-1.37-1.37c-.4-.4-.92-.59-1.43-.59-.52 0-1.04.2-1.43.59L10.3 9.45l-7.72 7.72c-.78.78-.78 2.05 0 2.83L4 21.41c.39.39.9.59 1.41.59.51 0 1.02-.2 1.41-.59l7.78-7.78 2.81-2.81c.8-.78.8-2.07 0-2.86zM5.41 20L4 18.59l7.72-7.72 1.47 1.35L5.41 20z\"/>\n",
              "  </svg>\n",
              "      </button>\n",
              "      \n",
              "  <style>\n",
              "    .colab-df-container {\n",
              "      display:flex;\n",
              "      flex-wrap:wrap;\n",
              "      gap: 12px;\n",
              "    }\n",
              "\n",
              "    .colab-df-convert {\n",
              "      background-color: #E8F0FE;\n",
              "      border: none;\n",
              "      border-radius: 50%;\n",
              "      cursor: pointer;\n",
              "      display: none;\n",
              "      fill: #1967D2;\n",
              "      height: 32px;\n",
              "      padding: 0 0 0 0;\n",
              "      width: 32px;\n",
              "    }\n",
              "\n",
              "    .colab-df-convert:hover {\n",
              "      background-color: #E2EBFA;\n",
              "      box-shadow: 0px 1px 2px rgba(60, 64, 67, 0.3), 0px 1px 3px 1px rgba(60, 64, 67, 0.15);\n",
              "      fill: #174EA6;\n",
              "    }\n",
              "\n",
              "    [theme=dark] .colab-df-convert {\n",
              "      background-color: #3B4455;\n",
              "      fill: #D2E3FC;\n",
              "    }\n",
              "\n",
              "    [theme=dark] .colab-df-convert:hover {\n",
              "      background-color: #434B5C;\n",
              "      box-shadow: 0px 1px 3px 1px rgba(0, 0, 0, 0.15);\n",
              "      filter: drop-shadow(0px 1px 2px rgba(0, 0, 0, 0.3));\n",
              "      fill: #FFFFFF;\n",
              "    }\n",
              "  </style>\n",
              "\n",
              "      <script>\n",
              "        const buttonEl =\n",
              "          document.querySelector('#df-2cfb3f6d-a735-4f42-a946-73b4749637d4 button.colab-df-convert');\n",
              "        buttonEl.style.display =\n",
              "          google.colab.kernel.accessAllowed ? 'block' : 'none';\n",
              "\n",
              "        async function convertToInteractive(key) {\n",
              "          const element = document.querySelector('#df-2cfb3f6d-a735-4f42-a946-73b4749637d4');\n",
              "          const dataTable =\n",
              "            await google.colab.kernel.invokeFunction('convertToInteractive',\n",
              "                                                     [key], {});\n",
              "          if (!dataTable) return;\n",
              "\n",
              "          const docLinkHtml = 'Like what you see? Visit the ' +\n",
              "            '<a target=\"_blank\" href=https://colab.research.google.com/notebooks/data_table.ipynb>data table notebook</a>'\n",
              "            + ' to learn more about interactive tables.';\n",
              "          element.innerHTML = '';\n",
              "          dataTable['output_type'] = 'display_data';\n",
              "          await google.colab.output.renderOutput(dataTable, element);\n",
              "          const docLink = document.createElement('div');\n",
              "          docLink.innerHTML = docLinkHtml;\n",
              "          element.appendChild(docLink);\n",
              "        }\n",
              "      </script>\n",
              "    </div>\n",
              "  </div>\n",
              "  "
            ]
          },
          "metadata": {},
          "execution_count": 59
        }
      ]
    },
    {
      "cell_type": "code",
      "source": [
        "\n",
        "\n",
        "# Plot the data points colored by their assigned clusters\n",
        "colors = ['r', 'g', 'b']\n",
        "for i in range(num_clusters):\n",
        "    plt.scatter(X[new_df['Cluster'] == i]['Grade'], X[new_df['Cluster'] == i]['Section_Grade'], c=colors[i])\n",
        "plt.xlabel('Grade')\n",
        "plt.ylabel('Section_Grade')\n",
        "plt.show()\n"
      ],
      "metadata": {
        "colab": {
          "base_uri": "https://localhost:8080/",
          "height": 449
        },
        "id": "wO-tF4bnU6DU",
        "outputId": "e9425a16-d560-4528-b114-31006e5241fc"
      },
      "execution_count": 58,
      "outputs": [
        {
          "output_type": "display_data",
          "data": {
            "text/plain": [
              "<Figure size 640x480 with 1 Axes>"
            ],
            "image/png": "[encoded data removed]"
          },
          "metadata": {}
        }
      ]
    },
    {
      "cell_type": "code",
      "source": [
        "from sklearn.preprocessing import LabelEncoder\n",
        "from sklearn.model_selection import train_test_split\n",
        "\n",
        "\n",
        "# encode the categorical variable \"Course\" using label encoding\n",
        "le = LabelEncoder()\n",
        "new_df['Course_enc'] = le.fit_transform(new_df['Course'])\n",
        "\n",
        "# split the data into training and testing sets with a 80:20 ratio\n",
        "X_train, X_test, y_train, y_test = train_test_split(new_df.drop(['Grade'], axis=1), df['Grade'], test_size=0.2, random_state=42)\n",
        "\n",
        "# print the shapes of the training and testing sets\n",
        "print(\"Training set shape:\", X_train.shape, y_train.shape)\n",
        "print(\"Testing set shape:\", X_test.shape, y_test.shape)\n"
      ],
      "metadata": {
        "colab": {
          "base_uri": "https://localhost:8080/"
        },
        "id": "HT8aXjGJRi0I",
        "outputId": "a69e6337-0bc0-4a9a-8a19-c41b609a9015"
      },
      "execution_count": 27,
      "outputs": [
        {
          "output_type": "stream",
          "name": "stdout",
          "text": [
            "Training set shape: (4104, 6) (4104,)\n",
            "Testing set shape: (1027, 6) (1027,)\n"
          ]
        }
      ]
    },
    {
      "cell_type": "code",
      "source": [
        "import pandas as pd\n",
        "from sklearn.model_selection import train_test_split\n",
        "from sklearn.preprocessing import LabelEncoder\n",
        "from sklearn.ensemble import RandomForestRegressor\n",
        "from sklearn.metrics import mean_squared_error\n",
        "\n",
        "df = new_df.copy()\n",
        "\n",
        "# Encode the categorical variables\n",
        "le = LabelEncoder()\n",
        "df['Course_enc'] = le.fit_transform(df['Course'])\n",
        "df['Course_Type_enc'] = le.fit_transform(df['Course_Type'])\n",
        "\n",
        "# Split the data into training and testing sets\n",
        "X_train, X_test, y_train, y_test = train_test_split(df[['Course_enc', 'Section_Grade', 'Course_Type_enc']], df['Grade'], test_size=0.2, random_state=42)\n",
        "\n",
        "# Train a random forest regressor on the training set\n",
        "rf = RandomForestRegressor(n_estimators=100, random_state=42)\n",
        "rf.fit(X_train, y_train)\n",
        "\n",
        "# Make predictions on the testing set\n",
        "y_pred = rf.predict(X_test)\n",
        "\n",
        "# Evaluate the model's performance using mean squared error\n",
        "mse = mean_squared_error(y_test, y_pred)\n",
        "print(\"Mean squared error:\", mse)\n"
      ],
      "metadata": {
        "colab": {
          "base_uri": "https://localhost:8080/"
        },
        "id": "Wf0SFjUaS7bj",
        "outputId": "75d59ab4-327e-4456-d9b5-c8d248079ad2"
      },
      "execution_count": 30,
      "outputs": [
        {
          "output_type": "stream",
          "name": "stdout",
          "text": [
            "Mean squared error: 0.2298913848612861\n"
          ]
        }
      ]
    },
    {
      "cell_type": "markdown",
      "source": [
        "The mean squared error (MSE) is a measure of how well a regression model fits the data. It measures the average squared difference between the predicted values and the actual values. The value of MSE ranges from 0 to infinity, with a lower value indicating a better fit of the model.\n",
        "\n",
        "In your case, the value of MSE is 0.2298, which means that on average, the predicted values are off by the square root of 0.2298. A lower value of MSE indicates a better fit of the model to the data."
      ],
      "metadata": {
        "id": "wCXN7aGL5TgC"
      }
    },
    {
      "cell_type": "code",
      "source": [
        "computer_df = new_df.copy()\n",
        "computer_df.columns"
      ],
      "metadata": {
        "colab": {
          "base_uri": "https://localhost:8080/"
        },
        "id": "_voLZ8af59_-",
        "outputId": "59533ea3-b60c-40ca-d702-7d83a6768f40"
      },
      "execution_count": 37,
      "outputs": [
        {
          "output_type": "execute_result",
          "data": {
            "text/plain": [
              "Index(['StudentID', 'Course', 'Grade', 'Section_Grade', 'Cluster',\n",
              "       'Course_enc', 'Course_Type_Arts', 'Course_Type_Computer Science',\n",
              "       'Course_Type_English', 'Course_Type_Entrepreneurship',\n",
              "       'Course_Type_Foreign Language', 'Course_Type_Humanities',\n",
              "       'Course_Type_Law and Politics', 'Course_Type_Math',\n",
              "       'Course_Type_Psychology', 'Course_Type_Research',\n",
              "       'Course_Type_Science'],\n",
              "      dtype='object')"
            ]
          },
          "metadata": {},
          "execution_count": 37
        }
      ]
    },
    {
      "cell_type": "code",
      "source": [
        "computer_df = pd.get_dummies(computer_df, columns=['Course_Type_Arts', 'Course_Type_Computer Science',\n",
        "       'Course_Type_English', 'Course_Type_Entrepreneurship',\n",
        "       'Course_Type_Foreign Language', 'Course_Type_Humanities',\n",
        "       'Course_Type_Law and Politics', 'Course_Type_Math',\n",
        "       'Course_Type_Psychology', 'Course_Type_Research',\n",
        "       'Course_Type_Science'])"
      ],
      "metadata": {
        "id": "5xYp1-Fb7iil"
      },
      "execution_count": 38,
      "outputs": []
    },
    {
      "cell_type": "code",
      "source": [
        "computer_df.describe()"
      ],
      "metadata": {
        "colab": {
          "base_uri": "https://localhost:8080/",
          "height": 411
        },
        "id": "F1eR5hRq7qpu",
        "outputId": "80f5402a-f25c-4748-ec64-e925a6630b03"
      },
      "execution_count": 43,
      "outputs": [
        {
          "output_type": "execute_result",
          "data": {
            "text/plain": [
              "             Grade  Section_Grade      Cluster   Course_enc  \\\n",
              "count  5131.000000    5131.000000  5131.000000  5131.000000   \n",
              "mean     10.538686      91.704987     1.005457    46.981875   \n",
              "std       1.106165       5.141133     0.917859    29.334560   \n",
              "min       9.000000      58.620000     0.000000     0.000000   \n",
              "25%      10.000000      88.980000     0.000000    26.000000   \n",
              "50%      11.000000      92.580000     1.000000    41.000000   \n",
              "75%      12.000000      95.395000     2.000000    71.000000   \n",
              "max      12.000000     103.700000     2.000000   104.000000   \n",
              "\n",
              "       Course_Type_Arts_0  Course_Type_Arts_1  Course_Type_Computer Science_0  \\\n",
              "count         5131.000000         5131.000000                     5131.000000   \n",
              "mean             0.981095            0.018905                        0.989671   \n",
              "std              0.136202            0.136202                        0.101117   \n",
              "min              0.000000            0.000000                        0.000000   \n",
              "25%              1.000000            0.000000                        1.000000   \n",
              "50%              1.000000            0.000000                        1.000000   \n",
              "75%              1.000000            0.000000                        1.000000   \n",
              "max              1.000000            1.000000                        1.000000   \n",
              "\n",
              "       Course_Type_Computer Science_1  Course_Type_English_0  \\\n",
              "count                     5131.000000            5131.000000   \n",
              "mean                         0.010329               0.828883   \n",
              "std                          0.101117               0.376648   \n",
              "min                          0.000000               0.000000   \n",
              "25%                          0.000000               1.000000   \n",
              "50%                          0.000000               1.000000   \n",
              "75%                          0.000000               1.000000   \n",
              "max                          1.000000               1.000000   \n",
              "\n",
              "       Course_Type_English_1  ...  Course_Type_Law and Politics_0  \\\n",
              "count            5131.000000  ...                     5131.000000   \n",
              "mean                0.171117  ...                        0.991035   \n",
              "std                 0.376648  ...                        0.094268   \n",
              "min                 0.000000  ...                        0.000000   \n",
              "25%                 0.000000  ...                        1.000000   \n",
              "50%                 0.000000  ...                        1.000000   \n",
              "75%                 0.000000  ...                        1.000000   \n",
              "max                 1.000000  ...                        1.000000   \n",
              "\n",
              "       Course_Type_Law and Politics_1  Course_Type_Math_0  Course_Type_Math_1  \\\n",
              "count                     5131.000000         5131.000000         5131.000000   \n",
              "mean                         0.008965            0.826739            0.173261   \n",
              "std                          0.094268            0.378509            0.378509   \n",
              "min                          0.000000            0.000000            0.000000   \n",
              "25%                          0.000000            1.000000            0.000000   \n",
              "50%                          0.000000            1.000000            0.000000   \n",
              "75%                          0.000000            1.000000            0.000000   \n",
              "max                          1.000000            1.000000            1.000000   \n",
              "\n",
              "       Course_Type_Psychology_0  Course_Type_Psychology_1  \\\n",
              "count               5131.000000               5131.000000   \n",
              "mean                   0.970571                  0.029429   \n",
              "std                    0.169022                  0.169022   \n",
              "min                    0.000000                  0.000000   \n",
              "25%                    1.000000                  0.000000   \n",
              "50%                    1.000000                  0.000000   \n",
              "75%                    1.000000                  0.000000   \n",
              "max                    1.000000                  1.000000   \n",
              "\n",
              "       Course_Type_Research_0  Course_Type_Research_1  Course_Type_Science_0  \\\n",
              "count              5131.00000              5131.00000            5131.000000   \n",
              "mean                  0.99006                 0.00994               0.767492   \n",
              "std                   0.09921                 0.09921               0.422472   \n",
              "min                   0.00000                 0.00000               0.000000   \n",
              "25%                   1.00000                 0.00000               1.000000   \n",
              "50%                   1.00000                 0.00000               1.000000   \n",
              "75%                   1.00000                 0.00000               1.000000   \n",
              "max                   1.00000                 1.00000               1.000000   \n",
              "\n",
              "       Course_Type_Science_1  \n",
              "count            5131.000000  \n",
              "mean                0.232508  \n",
              "std                 0.422472  \n",
              "min                 0.000000  \n",
              "25%                 0.000000  \n",
              "50%                 0.000000  \n",
              "75%                 0.000000  \n",
              "max                 1.000000  \n",
              "\n",
              "[8 rows x 26 columns]"
            ],
            "text/html": [
              "\n",
              "  <div id=\"df-e2bb5389-775e-4143-bfa4-b197051e619f\">\n",
              "    <div class=\"colab-df-container\">\n",
              "      <div>\n",
              "<style scoped>\n",
              "    .dataframe tbody tr th:only-of-type {\n",
              "        vertical-align: middle;\n",
              "    }\n",
              "\n",
              "    .dataframe tbody tr th {\n",
              "        vertical-align: top;\n",
              "    }\n",
              "\n",
              "    .dataframe thead th {\n",
              "        text-align: right;\n",
              "    }\n",
              "</style>\n",
              "<table border=\"1\" class=\"dataframe\">\n",
              "  <thead>\n",
              "    <tr style=\"text-align: right;\">\n",
              "      <th></th>\n",
              "      <th>Grade</th>\n",
              "      <th>Section_Grade</th>\n",
              "      <th>Cluster</th>\n",
              "      <th>Course_enc</th>\n",
              "      <th>Course_Type_Arts_0</th>\n",
              "      <th>Course_Type_Arts_1</th>\n",
              "      <th>Course_Type_Computer Science_0</th>\n",
              "      <th>Course_Type_Computer Science_1</th>\n",
              "      <th>Course_Type_English_0</th>\n",
              "      <th>Course_Type_English_1</th>\n",
              "      <th>...</th>\n",
              "      <th>Course_Type_Law and Politics_0</th>\n",
              "      <th>Course_Type_Law and Politics_1</th>\n",
              "      <th>Course_Type_Math_0</th>\n",
              "      <th>Course_Type_Math_1</th>\n",
              "      <th>Course_Type_Psychology_0</th>\n",
              "      <th>Course_Type_Psychology_1</th>\n",
              "      <th>Course_Type_Research_0</th>\n",
              "      <th>Course_Type_Research_1</th>\n",
              "      <th>Course_Type_Science_0</th>\n",
              "      <th>Course_Type_Science_1</th>\n",
              "    </tr>\n",
              "  </thead>\n",
              "  <tbody>\n",
              "    <tr>\n",
              "      <th>count</th>\n",
              "      <td>5131.000000</td>\n",
              "      <td>5131.000000</td>\n",
              "      <td>5131.000000</td>\n",
              "      <td>5131.000000</td>\n",
              "      <td>5131.000000</td>\n",
              "      <td>5131.000000</td>\n",
              "      <td>5131.000000</td>\n",
              "      <td>5131.000000</td>\n",
              "      <td>5131.000000</td>\n",
              "      <td>5131.000000</td>\n",
              "      <td>...</td>\n",
              "      <td>5131.000000</td>\n",
              "      <td>5131.000000</td>\n",
              "      <td>5131.000000</td>\n",
              "      <td>5131.000000</td>\n",
              "      <td>5131.000000</td>\n",
              "      <td>5131.000000</td>\n",
              "      <td>5131.00000</td>\n",
              "      <td>5131.00000</td>\n",
              "      <td>5131.000000</td>\n",
              "      <td>5131.000000</td>\n",
              "    </tr>\n",
              "    <tr>\n",
              "      <th>mean</th>\n",
              "      <td>10.538686</td>\n",
              "      <td>91.704987</td>\n",
              "      <td>1.005457</td>\n",
              "      <td>46.981875</td>\n",
              "      <td>0.981095</td>\n",
              "      <td>0.018905</td>\n",
              "      <td>0.989671</td>\n",
              "      <td>0.010329</td>\n",
              "      <td>0.828883</td>\n",
              "      <td>0.171117</td>\n",
              "      <td>...</td>\n",
              "      <td>0.991035</td>\n",
              "      <td>0.008965</td>\n",
              "      <td>0.826739</td>\n",
              "      <td>0.173261</td>\n",
              "      <td>0.970571</td>\n",
              "      <td>0.029429</td>\n",
              "      <td>0.99006</td>\n",
              "      <td>0.00994</td>\n",
              "      <td>0.767492</td>\n",
              "      <td>0.232508</td>\n",
              "    </tr>\n",
              "    <tr>\n",
              "      <th>std</th>\n",
              "      <td>1.106165</td>\n",
              "      <td>5.141133</td>\n",
              "      <td>0.917859</td>\n",
              "      <td>29.334560</td>\n",
              "      <td>0.136202</td>\n",
              "      <td>0.136202</td>\n",
              "      <td>0.101117</td>\n",
              "      <td>0.101117</td>\n",
              "      <td>0.376648</td>\n",
              "      <td>0.376648</td>\n",
              "      <td>...</td>\n",
              "      <td>0.094268</td>\n",
              "      <td>0.094268</td>\n",
              "      <td>0.378509</td>\n",
              "      <td>0.378509</td>\n",
              "      <td>0.169022</td>\n",
              "      <td>0.169022</td>\n",
              "      <td>0.09921</td>\n",
              "      <td>0.09921</td>\n",
              "      <td>0.422472</td>\n",
              "      <td>0.422472</td>\n",
              "    </tr>\n",
              "    <tr>\n",
              "      <th>min</th>\n",
              "      <td>9.000000</td>\n",
              "      <td>58.620000</td>\n",
              "      <td>0.000000</td>\n",
              "      <td>0.000000</td>\n",
              "      <td>0.000000</td>\n",
              "      <td>0.000000</td>\n",
              "      <td>0.000000</td>\n",
              "      <td>0.000000</td>\n",
              "      <td>0.000000</td>\n",
              "      <td>0.000000</td>\n",
              "      <td>...</td>\n",
              "      <td>0.000000</td>\n",
              "      <td>0.000000</td>\n",
              "      <td>0.000000</td>\n",
              "      <td>0.000000</td>\n",
              "      <td>0.000000</td>\n",
              "      <td>0.000000</td>\n",
              "      <td>0.00000</td>\n",
              "      <td>0.00000</td>\n",
              "      <td>0.000000</td>\n",
              "      <td>0.000000</td>\n",
              "    </tr>\n",
              "    <tr>\n",
              "      <th>25%</th>\n",
              "      <td>10.000000</td>\n",
              "      <td>88.980000</td>\n",
              "      <td>0.000000</td>\n",
              "      <td>26.000000</td>\n",
              "      <td>1.000000</td>\n",
              "      <td>0.000000</td>\n",
              "      <td>1.000000</td>\n",
              "      <td>0.000000</td>\n",
              "      <td>1.000000</td>\n",
              "      <td>0.000000</td>\n",
              "      <td>...</td>\n",
              "      <td>1.000000</td>\n",
              "      <td>0.000000</td>\n",
              "      <td>1.000000</td>\n",
              "      <td>0.000000</td>\n",
              "      <td>1.000000</td>\n",
              "      <td>0.000000</td>\n",
              "      <td>1.00000</td>\n",
              "      <td>0.00000</td>\n",
              "      <td>1.000000</td>\n",
              "      <td>0.000000</td>\n",
              "    </tr>\n",
              "    <tr>\n",
              "      <th>50%</th>\n",
              "      <td>11.000000</td>\n",
              "      <td>92.580000</td>\n",
              "      <td>1.000000</td>\n",
              "      <td>41.000000</td>\n",
              "      <td>1.000000</td>\n",
              "      <td>0.000000</td>\n",
              "      <td>1.000000</td>\n",
              "      <td>0.000000</td>\n",
              "      <td>1.000000</td>\n",
              "      <td>0.000000</td>\n",
              "      <td>...</td>\n",
              "      <td>1.000000</td>\n",
              "      <td>0.000000</td>\n",
              "      <td>1.000000</td>\n",
              "      <td>0.000000</td>\n",
              "      <td>1.000000</td>\n",
              "      <td>0.000000</td>\n",
              "      <td>1.00000</td>\n",
              "      <td>0.00000</td>\n",
              "      <td>1.000000</td>\n",
              "      <td>0.000000</td>\n",
              "    </tr>\n",
              "    <tr>\n",
              "      <th>75%</th>\n",
              "      <td>12.000000</td>\n",
              "      <td>95.395000</td>\n",
              "      <td>2.000000</td>\n",
              "      <td>71.000000</td>\n",
              "      <td>1.000000</td>\n",
              "      <td>0.000000</td>\n",
              "      <td>1.000000</td>\n",
              "      <td>0.000000</td>\n",
              "      <td>1.000000</td>\n",
              "      <td>0.000000</td>\n",
              "      <td>...</td>\n",
              "      <td>1.000000</td>\n",
              "      <td>0.000000</td>\n",
              "      <td>1.000000</td>\n",
              "      <td>0.000000</td>\n",
              "      <td>1.000000</td>\n",
              "      <td>0.000000</td>\n",
              "      <td>1.00000</td>\n",
              "      <td>0.00000</td>\n",
              "      <td>1.000000</td>\n",
              "      <td>0.000000</td>\n",
              "    </tr>\n",
              "    <tr>\n",
              "      <th>max</th>\n",
              "      <td>12.000000</td>\n",
              "      <td>103.700000</td>\n",
              "      <td>2.000000</td>\n",
              "      <td>104.000000</td>\n",
              "      <td>1.000000</td>\n",
              "      <td>1.000000</td>\n",
              "      <td>1.000000</td>\n",
              "      <td>1.000000</td>\n",
              "      <td>1.000000</td>\n",
              "      <td>1.000000</td>\n",
              "      <td>...</td>\n",
              "      <td>1.000000</td>\n",
              "      <td>1.000000</td>\n",
              "      <td>1.000000</td>\n",
              "      <td>1.000000</td>\n",
              "      <td>1.000000</td>\n",
              "      <td>1.000000</td>\n",
              "      <td>1.00000</td>\n",
              "      <td>1.00000</td>\n",
              "      <td>1.000000</td>\n",
              "      <td>1.000000</td>\n",
              "    </tr>\n",
              "  </tbody>\n",
              "</table>\n",
              "<p>8 rows × 26 columns</p>\n",
              "</div>\n",
              "      <button class=\"colab-df-convert\" onclick=\"convertToInteractive('df-e2bb5389-775e-4143-bfa4-b197051e619f')\"\n",
              "              title=\"Convert this dataframe to an interactive table.\"\n",
              "              style=\"display:none;\">\n",
              "        \n",
              "  <svg xmlns=\"http://www.w3.org/2000/svg\" height=\"24px\"viewBox=\"0 0 24 24\"\n",
              "       width=\"24px\">\n",
              "    <path d=\"M0 0h24v24H0V0z\" fill=\"none\"/>\n",
              "    <path d=\"M18.56 5.44l.94 2.06.94-2.06 2.06-.94-2.06-.94-.94-2.06-.94 2.06-2.06.94zm-11 1L8.5 8.5l.94-2.06 2.06-.94-2.06-.94L8.5 2.5l-.94 2.06-2.06.94zm10 10l.94 2.06.94-2.06 2.06-.94-2.06-.94-.94-2.06-.94 2.06-2.06.94z\"/><path d=\"M17.41 7.96l-1.37-1.37c-.4-.4-.92-.59-1.43-.59-.52 0-1.04.2-1.43.59L10.3 9.45l-7.72 7.72c-.78.78-.78 2.05 0 2.83L4 21.41c.39.39.9.59 1.41.59.51 0 1.02-.2 1.41-.59l7.78-7.78 2.81-2.81c.8-.78.8-2.07 0-2.86zM5.41 20L4 18.59l7.72-7.72 1.47 1.35L5.41 20z\"/>\n",
              "  </svg>\n",
              "      </button>\n",
              "      \n",
              "  <style>\n",
              "    .colab-df-container {\n",
              "      display:flex;\n",
              "      flex-wrap:wrap;\n",
              "      gap: 12px;\n",
              "    }\n",
              "\n",
              "    .colab-df-convert {\n",
              "      background-color: #E8F0FE;\n",
              "      border: none;\n",
              "      border-radius: 50%;\n",
              "      cursor: pointer;\n",
              "      display: none;\n",
              "      fill: #1967D2;\n",
              "      height: 32px;\n",
              "      padding: 0 0 0 0;\n",
              "      width: 32px;\n",
              "    }\n",
              "\n",
              "    .colab-df-convert:hover {\n",
              "      background-color: #E2EBFA;\n",
              "      box-shadow: 0px 1px 2px rgba(60, 64, 67, 0.3), 0px 1px 3px 1px rgba(60, 64, 67, 0.15);\n",
              "      fill: #174EA6;\n",
              "    }\n",
              "\n",
              "    [theme=dark] .colab-df-convert {\n",
              "      background-color: #3B4455;\n",
              "      fill: #D2E3FC;\n",
              "    }\n",
              "\n",
              "    [theme=dark] .colab-df-convert:hover {\n",
              "      background-color: #434B5C;\n",
              "      box-shadow: 0px 1px 3px 1px rgba(0, 0, 0, 0.15);\n",
              "      filter: drop-shadow(0px 1px 2px rgba(0, 0, 0, 0.3));\n",
              "      fill: #FFFFFF;\n",
              "    }\n",
              "  </style>\n",
              "\n",
              "      <script>\n",
              "        const buttonEl =\n",
              "          document.querySelector('#df-e2bb5389-775e-4143-bfa4-b197051e619f button.colab-df-convert');\n",
              "        buttonEl.style.display =\n",
              "          google.colab.kernel.accessAllowed ? 'block' : 'none';\n",
              "\n",
              "        async function convertToInteractive(key) {\n",
              "          const element = document.querySelector('#df-e2bb5389-775e-4143-bfa4-b197051e619f');\n",
              "          const dataTable =\n",
              "            await google.colab.kernel.invokeFunction('convertToInteractive',\n",
              "                                                     [key], {});\n",
              "          if (!dataTable) return;\n",
              "\n",
              "          const docLinkHtml = 'Like what you see? Visit the ' +\n",
              "            '<a target=\"_blank\" href=https://colab.research.google.com/notebooks/data_table.ipynb>data table notebook</a>'\n",
              "            + ' to learn more about interactive tables.';\n",
              "          element.innerHTML = '';\n",
              "          dataTable['output_type'] = 'display_data';\n",
              "          await google.colab.output.renderOutput(dataTable, element);\n",
              "          const docLink = document.createElement('div');\n",
              "          docLink.innerHTML = docLinkHtml;\n",
              "          element.appendChild(docLink);\n",
              "        }\n",
              "      </script>\n",
              "    </div>\n",
              "  </div>\n",
              "  "
            ]
          },
          "metadata": {},
          "execution_count": 43
        }
      ]
    },
    {
      "cell_type": "code",
      "source": [],
      "metadata": {
        "id": "3LYMzqgJ8GNa"
      },
      "execution_count": null,
      "outputs": []
    },
    {
      "cell_type": "code",
      "source": [
        "import pandas as pd\n",
        "from sklearn.linear_model import LogisticRegression\n",
        "from sklearn.model_selection import train_test_split\n",
        "from sklearn.metrics import accuracy_score\n",
        "\n",
        "\n",
        "\n",
        "# Define features and target variable\n",
        "X = new_df.drop(['StudentID', 'Course', 'Grade', 'Section_Grade', 'Cluster'], axis=1)\n",
        "y = new_df['Course_Type_Computer Science'].values # Binary target variable: 1 if the course is a computer course, 0 otherwise\n",
        "\n",
        "# Split data into training and testing sets\n",
        "X_train, X_test, y_train, y_test = train_test_split(X, y, test_size=0.2, random_state=42)\n",
        "\n",
        "# Train logistic regression model\n",
        "clf = LogisticRegression()\n",
        "clf.fit(X_train, y_train)\n",
        "\n",
        "# Predict target variable on testing set\n",
        "y_pred = clf.predict(X_test)\n",
        "\n",
        "# Compute accuracy score\n",
        "acc_score = accuracy_score(y_test, y_pred)\n",
        "print('Accuracy score:', acc_score)\n"
      ],
      "metadata": {
        "colab": {
          "base_uri": "https://localhost:8080/"
        },
        "id": "_leii-PV5uSG",
        "outputId": "6e520d78-cdb3-43ce-e0d8-f7188df77b8f"
      },
      "execution_count": 40,
      "outputs": [
        {
          "output_type": "stream",
          "name": "stdout",
          "text": [
            "Accuracy score: 1.0\n"
          ]
        }
      ]
    }
  ]
}